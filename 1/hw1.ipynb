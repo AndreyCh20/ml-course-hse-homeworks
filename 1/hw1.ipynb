{
 "cells": [
  {
   "cell_type": "markdown",
   "metadata": {},
   "source": [
    "### 1. Табличные данные и Pandas"
   ]
  },
  {
   "cell_type": "code",
   "execution_count": 1,
   "metadata": {},
   "outputs": [],
   "source": [
    "import pandas as pd"
   ]
  },
  {
   "cell_type": "code",
   "execution_count": 2,
   "metadata": {},
   "outputs": [],
   "source": [
    "df = pd.read_excel('end_seminar.xlsx')"
   ]
  },
  {
   "cell_type": "code",
   "execution_count": 3,
   "metadata": {},
   "outputs": [
    {
     "data": {
      "text/html": [
       "<div>\n",
       "<style scoped>\n",
       "    .dataframe tbody tr th:only-of-type {\n",
       "        vertical-align: middle;\n",
       "    }\n",
       "\n",
       "    .dataframe tbody tr th {\n",
       "        vertical-align: top;\n",
       "    }\n",
       "\n",
       "    .dataframe thead th {\n",
       "        text-align: right;\n",
       "    }\n",
       "</style>\n",
       "<table border=\"1\" class=\"dataframe\">\n",
       "  <thead>\n",
       "    <tr style=\"text-align: right;\">\n",
       "      <th></th>\n",
       "      <th>timestamp</th>\n",
       "      <th>id</th>\n",
       "      <th>rating</th>\n",
       "      <th>18_group</th>\n",
       "      <th>is_mi</th>\n",
       "      <th>fall_1</th>\n",
       "      <th>fall_2</th>\n",
       "      <th>fall_3</th>\n",
       "      <th>spring_1</th>\n",
       "      <th>spring_2</th>\n",
       "      <th>spring_3</th>\n",
       "      <th>is_first_time</th>\n",
       "      <th>percentile</th>\n",
       "      <th>17_group</th>\n",
       "      <th>blended</th>\n",
       "      <th>is_ml_student</th>\n",
       "    </tr>\n",
       "  </thead>\n",
       "  <tbody>\n",
       "    <tr>\n",
       "      <th>0</th>\n",
       "      <td>2020-05-15 01:12:50.543</td>\n",
       "      <td>93ff79a51cd602f1dd3028ba2c129503</td>\n",
       "      <td>698</td>\n",
       "      <td>181.0</td>\n",
       "      <td>NaN</td>\n",
       "      <td>Язык SQL</td>\n",
       "      <td>Высокопроизводительные вычисления</td>\n",
       "      <td>Матричные вычисления</td>\n",
       "      <td>Дискретная оптимизация</td>\n",
       "      <td>Численные методы</td>\n",
       "      <td>Машинное обучение 2</td>\n",
       "      <td>Да</td>\n",
       "      <td>0.183857</td>\n",
       "      <td>NaN</td>\n",
       "      <td>NaN</td>\n",
       "      <td>NaN</td>\n",
       "    </tr>\n",
       "    <tr>\n",
       "      <th>1</th>\n",
       "      <td>2020-05-15 02:46:48.066</td>\n",
       "      <td>26b01b1c4cd5656bab18d24c548834fb</td>\n",
       "      <td>647</td>\n",
       "      <td>181.0</td>\n",
       "      <td>NaN</td>\n",
       "      <td>Высокопроизводительные вычисления</td>\n",
       "      <td>Безопасность компьютерных систем</td>\n",
       "      <td>Язык SQL</td>\n",
       "      <td>Дискретная оптимизация</td>\n",
       "      <td>Численные методы</td>\n",
       "      <td>Машинное обучение 2</td>\n",
       "      <td>Нет</td>\n",
       "      <td>0.426009</td>\n",
       "      <td>NaN</td>\n",
       "      <td>NaN</td>\n",
       "      <td>NaN</td>\n",
       "    </tr>\n",
       "    <tr>\n",
       "      <th>2</th>\n",
       "      <td>2020-05-15 03:12:41.480</td>\n",
       "      <td>30f3653fc176d54e89ac3179c455c6dd</td>\n",
       "      <td>624</td>\n",
       "      <td>185.0</td>\n",
       "      <td>NaN</td>\n",
       "      <td>Безопасность компьютерных систем</td>\n",
       "      <td>Матричные вычисления</td>\n",
       "      <td>Моделирование временных рядов</td>\n",
       "      <td>Дискретная оптимизация</td>\n",
       "      <td>Машинное обучение 2</td>\n",
       "      <td>Численные методы</td>\n",
       "      <td>Да</td>\n",
       "      <td>0.538117</td>\n",
       "      <td>NaN</td>\n",
       "      <td>NaN</td>\n",
       "      <td>NaN</td>\n",
       "    </tr>\n",
       "    <tr>\n",
       "      <th>3</th>\n",
       "      <td>2020-05-15 04:43:08.994</td>\n",
       "      <td>1528f0eaa027580820ccf0d92a53ad68</td>\n",
       "      <td>579</td>\n",
       "      <td>182.0</td>\n",
       "      <td>NaN</td>\n",
       "      <td>Statistical Learning Theory</td>\n",
       "      <td>Высокопроизводительные вычисления</td>\n",
       "      <td>Матричные вычисления</td>\n",
       "      <td>Дискретная оптимизация</td>\n",
       "      <td>Численные методы</td>\n",
       "      <td>Машинное обучение 2</td>\n",
       "      <td>Да</td>\n",
       "      <td>0.744395</td>\n",
       "      <td>NaN</td>\n",
       "      <td>NaN</td>\n",
       "      <td>NaN</td>\n",
       "    </tr>\n",
       "    <tr>\n",
       "      <th>4</th>\n",
       "      <td>2020-05-15 07:47:17.197</td>\n",
       "      <td>496ea4f0d4abe264b1bb1b80eb3830c5</td>\n",
       "      <td>572</td>\n",
       "      <td>183.0</td>\n",
       "      <td>NaN</td>\n",
       "      <td>Высокопроизводительные вычисления</td>\n",
       "      <td>Безопасность компьютерных систем</td>\n",
       "      <td>Теория баз данных</td>\n",
       "      <td>Компьютерные сети</td>\n",
       "      <td>Дискретная оптимизация</td>\n",
       "      <td>Численные методы</td>\n",
       "      <td>Да</td>\n",
       "      <td>0.780269</td>\n",
       "      <td>NaN</td>\n",
       "      <td>NaN</td>\n",
       "      <td>NaN</td>\n",
       "    </tr>\n",
       "  </tbody>\n",
       "</table>\n",
       "</div>"
      ],
      "text/plain": [
       "                timestamp                                id  rating  18_group  \\\n",
       "0 2020-05-15 01:12:50.543  93ff79a51cd602f1dd3028ba2c129503     698     181.0   \n",
       "1 2020-05-15 02:46:48.066  26b01b1c4cd5656bab18d24c548834fb     647     181.0   \n",
       "2 2020-05-15 03:12:41.480  30f3653fc176d54e89ac3179c455c6dd     624     185.0   \n",
       "3 2020-05-15 04:43:08.994  1528f0eaa027580820ccf0d92a53ad68     579     182.0   \n",
       "4 2020-05-15 07:47:17.197  496ea4f0d4abe264b1bb1b80eb3830c5     572     183.0   \n",
       "\n",
       "   is_mi                             fall_1  \\\n",
       "0    NaN                           Язык SQL   \n",
       "1    NaN  Высокопроизводительные вычисления   \n",
       "2    NaN   Безопасность компьютерных систем   \n",
       "3    NaN        Statistical Learning Theory   \n",
       "4    NaN  Высокопроизводительные вычисления   \n",
       "\n",
       "                              fall_2                         fall_3  \\\n",
       "0  Высокопроизводительные вычисления           Матричные вычисления   \n",
       "1   Безопасность компьютерных систем                       Язык SQL   \n",
       "2               Матричные вычисления  Моделирование временных рядов   \n",
       "3  Высокопроизводительные вычисления           Матричные вычисления   \n",
       "4   Безопасность компьютерных систем              Теория баз данных   \n",
       "\n",
       "                 spring_1                spring_2             spring_3  \\\n",
       "0  Дискретная оптимизация        Численные методы  Машинное обучение 2   \n",
       "1  Дискретная оптимизация        Численные методы  Машинное обучение 2   \n",
       "2  Дискретная оптимизация     Машинное обучение 2     Численные методы   \n",
       "3  Дискретная оптимизация        Численные методы  Машинное обучение 2   \n",
       "4       Компьютерные сети  Дискретная оптимизация     Численные методы   \n",
       "\n",
       "  is_first_time  percentile  17_group blended  is_ml_student  \n",
       "0            Да    0.183857       NaN     NaN            NaN  \n",
       "1           Нет    0.426009       NaN     NaN            NaN  \n",
       "2            Да    0.538117       NaN     NaN            NaN  \n",
       "3            Да    0.744395       NaN     NaN            NaN  \n",
       "4            Да    0.780269       NaN     NaN            NaN  "
      ]
     },
     "execution_count": 3,
     "metadata": {},
     "output_type": "execute_result"
    }
   ],
   "source": [
    "df.head(5)"
   ]
  },
  {
   "cell_type": "code",
   "execution_count": 4,
   "metadata": {},
   "outputs": [
    {
     "name": "stdout",
     "output_type": "stream",
     "text": [
      "<class 'pandas.core.frame.DataFrame'>\n",
      "RangeIndex: 361 entries, 0 to 360\n",
      "Data columns (total 16 columns):\n",
      " #   Column         Non-Null Count  Dtype         \n",
      "---  ------         --------------  -----         \n",
      " 0   timestamp      361 non-null    datetime64[ns]\n",
      " 1   id             361 non-null    object        \n",
      " 2   rating         361 non-null    int64         \n",
      " 3   18_group       223 non-null    float64       \n",
      " 4   is_mi          18 non-null     float64       \n",
      " 5   fall_1         361 non-null    object        \n",
      " 6   fall_2         361 non-null    object        \n",
      " 7   fall_3         361 non-null    object        \n",
      " 8   spring_1       361 non-null    object        \n",
      " 9   spring_2       361 non-null    object        \n",
      " 10  spring_3       361 non-null    object        \n",
      " 11  is_first_time  359 non-null    object        \n",
      " 12  percentile     361 non-null    float64       \n",
      " 13  17_group       138 non-null    float64       \n",
      " 14  blended        138 non-null    object        \n",
      " 15  is_ml_student  57 non-null     float64       \n",
      "dtypes: datetime64[ns](1), float64(5), int64(1), object(9)\n",
      "memory usage: 45.2+ KB\n"
     ]
    }
   ],
   "source": [
    "df.info()"
   ]
  },
  {
   "cell_type": "code",
   "execution_count": 5,
   "metadata": {},
   "outputs": [
    {
     "data": {
      "text/plain": [
       "array([ nan, 172., 176., 171., 175., 173., 174., 177.])"
      ]
     },
     "execution_count": 5,
     "metadata": {},
     "output_type": "execute_result"
    }
   ],
   "source": [
    "df['17_group'].unique()"
   ]
  },
  {
   "cell_type": "markdown",
   "metadata": {},
   "source": [
    "Сколько было заявок из групп 18-го года набора, а сколько из групп 17-го года?\n",
    "Есть ли студенты с равными перцентилями?"
   ]
  },
  {
   "cell_type": "code",
   "execution_count": 6,
   "metadata": {},
   "outputs": [
    {
     "data": {
      "text/plain": [
       "False"
      ]
     },
     "execution_count": 6,
     "metadata": {},
     "output_type": "execute_result"
    }
   ],
   "source": [
    "df['percentile'].is_unique"
   ]
  },
  {
   "cell_type": "code",
   "execution_count": 7,
   "metadata": {},
   "outputs": [
    {
     "data": {
      "text/plain": [
       "223"
      ]
     },
     "execution_count": 7,
     "metadata": {},
     "output_type": "execute_result"
    }
   ],
   "source": [
    "df['18_group'].notna().sum()"
   ]
  },
  {
   "cell_type": "code",
   "execution_count": 8,
   "metadata": {},
   "outputs": [
    {
     "data": {
      "text/plain": [
       "138"
      ]
     },
     "execution_count": 8,
     "metadata": {},
     "output_type": "execute_result"
    }
   ],
   "source": [
    "df['17_group'].notna().sum()"
   ]
  },
  {
   "cell_type": "markdown",
   "metadata": {},
   "source": [
    "Есть ли в данных пропуски? В каких колонках? Сколько их в каждой из этих колонок?"
   ]
  },
  {
   "cell_type": "code",
   "execution_count": 9,
   "metadata": {},
   "outputs": [
    {
     "data": {
      "text/plain": [
       "18_group         138.0\n",
       "is_mi            343.0\n",
       "is_first_time      2.0\n",
       "17_group         223.0\n",
       "blended          223.0\n",
       "is_ml_student    304.0\n",
       "dtype: float64"
      ]
     },
     "execution_count": 9,
     "metadata": {},
     "output_type": "execute_result"
    }
   ],
   "source": [
    "df.isna().sum().where(lambda x: x>0).dropna()"
   ]
  },
  {
   "cell_type": "code",
   "execution_count": 10,
   "metadata": {},
   "outputs": [],
   "source": [
    "df.fillna(value={\n",
    "    'is_first_time':'',\n",
    "    'blended':'',\n",
    "    '18_group':0,\n",
    "    'is_mi':0,\n",
    "    '17_group':0,\n",
    "    'is_ml_student':0}, inplace=True)"
   ]
  },
  {
   "cell_type": "markdown",
   "metadata": {},
   "source": [
    "Посмотрите повнимательнее на колонку 'is_first_time'.\n",
    "Есть ли в ней ответы \"Нет\"? Сколько их?\n",
    "\n",
    "Если вы найдете повторные обращения студентов, оставьте только самую позднюю версию."
   ]
  },
  {
   "cell_type": "code",
   "execution_count": 11,
   "metadata": {},
   "outputs": [
    {
     "data": {
      "text/plain": [
       "Да     308\n",
       "Нет     51\n",
       "         2\n",
       "Name: is_first_time, dtype: int64"
      ]
     },
     "execution_count": 11,
     "metadata": {},
     "output_type": "execute_result"
    }
   ],
   "source": [
    "df['is_first_time'].value_counts()"
   ]
  },
  {
   "cell_type": "code",
   "execution_count": 12,
   "metadata": {},
   "outputs": [],
   "source": [
    "# удаляем все кроме самой последней записи для каждого id\n",
    "df = df.sort_values(by='timestamp').drop_duplicates(subset='id', keep='last')"
   ]
  },
  {
   "cell_type": "code",
   "execution_count": 13,
   "metadata": {},
   "outputs": [
    {
     "data": {
      "text/plain": [
       "Да     294\n",
       "Нет     51\n",
       "         2\n",
       "Name: is_first_time, dtype: int64"
      ]
     },
     "execution_count": 13,
     "metadata": {},
     "output_type": "execute_result"
    }
   ],
   "source": [
    "df['is_first_time'].value_counts()"
   ]
  },
  {
   "cell_type": "code",
   "execution_count": 14,
   "metadata": {},
   "outputs": [],
   "source": [
    "# разделение студентов на 4 и 3 курс\n",
    "df17 = df[df['17_group'] > 0]\n",
    "df18 = df[df['18_group'] > 0]"
   ]
  },
  {
   "cell_type": "code",
   "execution_count": 15,
   "metadata": {},
   "outputs": [
    {
     "data": {
      "text/plain": [
       "(134, 16)"
      ]
     },
     "execution_count": 15,
     "metadata": {},
     "output_type": "execute_result"
    }
   ],
   "source": [
    "df17.shape"
   ]
  },
  {
   "cell_type": "markdown",
   "metadata": {},
   "source": [
    "Какие blended-курсы для четверокурсников существуют? На какой blended-курс записалось наибольшее количество студентов? На каком из курсов собрались студенты с самым высоким средним рейтингом?"
   ]
  },
  {
   "cell_type": "code",
   "execution_count": 16,
   "metadata": {},
   "outputs": [
    {
     "data": {
      "text/plain": [
       "array(['DevOps', 'Введение в дифференциальную геометрию',\n",
       "       'Соревновательный анализ данных'], dtype=object)"
      ]
     },
     "execution_count": 16,
     "metadata": {},
     "output_type": "execute_result"
    }
   ],
   "source": [
    "# список blended-курсов\n",
    "df17['blended'].unique()"
   ]
  },
  {
   "cell_type": "code",
   "execution_count": 17,
   "metadata": {},
   "outputs": [
    {
     "data": {
      "text/plain": [
       "blended\n",
       "DevOps                                   87\n",
       "Соревновательный анализ данных           32\n",
       "Введение в дифференциальную геометрию    15\n",
       "Name: id, dtype: int64"
      ]
     },
     "execution_count": 17,
     "metadata": {},
     "output_type": "execute_result"
    }
   ],
   "source": [
    "# количество студентов на курсе, сортировка от самого популярного курса\n",
    "df17.groupby('blended')['id'].count().sort_values(ascending=False)"
   ]
  },
  {
   "cell_type": "code",
   "execution_count": 18,
   "metadata": {},
   "outputs": [
    {
     "data": {
      "text/plain": [
       "blended\n",
       "Введение в дифференциальную геометрию    1210.733333\n",
       "DevOps                                   1154.172414\n",
       "Соревновательный анализ данных           1144.218750\n",
       "Name: rating, dtype: float64"
      ]
     },
     "execution_count": 18,
     "metadata": {},
     "output_type": "execute_result"
    }
   ],
   "source": [
    "# средний рейтинг студентов на курсах\n",
    "df17.groupby('blended')['rating'].mean().sort_values(ascending=False)"
   ]
  },
  {
   "cell_type": "markdown",
   "metadata": {},
   "source": [
    "Выясните, есть ли в данных студенты с абсолютно одинаковыми предпочтениями по всем курсам (не забудьте учесть blended-курсы для четверокурсников). Сколько таких наборов, которые взяли несколько студентов? Выведите их все вместе с количеством выбравших их студентов."
   ]
  },
  {
   "cell_type": "code",
   "execution_count": 19,
   "metadata": {},
   "outputs": [
    {
     "data": {
      "text/plain": [
       "fall_1                                           fall_2                                           fall_3                                           spring_1                                                spring_2                                     spring_3                                     blended\n",
       "Statistical Learning Theory                      Анализ неструктурированных данных                Сбор и обработка данных с помощью краудсорсинга  Обучение с подкреплением                                Конфликты и кооперация                       Компьютерное зрение                          DevOps     2\n",
       "Байесовские методы машинного обучения            Анализ неструктурированных данных                Глубинное обучение в обработке звука             Обучение с подкреплением                                Генеративные модели в машинном обучении      Компьютерное зрение                          DevOps     2\n",
       "                                                                                                  Сбор и обработка данных с помощью краудсорсинга  Обучение с подкреплением                                Компьютерное зрение                          Генеративные модели в машинном обучении      DevOps     2\n",
       "Безопасность компьютерных систем                 Statistical Learning Theory                      Матричные вычисления                             Дискретная оптимизация                                  Промышленное программирование на языке Java  Дополнительные главы прикладной статистики              3\n",
       "                                                 Высокопроизводительные вычисления                Анализ неструктурированных данных                Проектирование и разработка высоконагруженных сервисов  Методы сжатия и передачи медиаданных         Конфликты и кооперация                       DevOps     2\n",
       "                                                                                                  Язык SQL                                         Компьютерные сети                                       Промышленное программирование на языке Java  Дискретная оптимизация                                  3\n",
       "                                                                                                                                                   Промышленное программирование на языке Java             Компьютерные сети                            Системы баз данных                                      2\n",
       "                                                 Матричные вычисления                             Моделирование временных рядов                    Промышленное программирование на языке Java             Компьютерные сети                            Дискретная оптимизация                                  2\n",
       "                                                 Сбор и обработка данных с помощью краудсорсинга  Матричные вычисления                             Компьютерные сети                                       Промышленное программирование на языке Java  Анализ данных в бизнесе                                 2\n",
       "                                                 Теория баз данных                                Язык SQL                                         Машинное обучение 2                                     Компьютерные сети                            Промышленное программирование на языке Java             2\n",
       "Высокопроизводительные вычисления                Безопасность компьютерных систем                 Сбор и обработка данных с помощью краудсорсинга  Проектирование и разработка высоконагруженных сервисов  Методы сжатия и передачи медиаданных         Компьютерное зрение                          DevOps     2\n",
       "                                                 Сбор и обработка данных с помощью краудсорсинга  Моделирование временных рядов                    Проектирование и разработка высоконагруженных сервисов  Методы сжатия и передачи медиаданных         Методы сжатия и передачи медиаданных         DevOps     2\n",
       "Моделирование временных рядов                    Сбор и обработка данных с помощью краудсорсинга  Безопасность компьютерных систем                 Компьютерные сети                                       Дополнительные главы прикладной статистики   Системы баз данных                                      2\n",
       "Сбор и обработка данных с помощью краудсорсинга  Язык SQL                                         Теория баз данных                                Промышленное программирование на языке Java             Машинное обучение 2                          Компьютерные сети                                       2\n",
       "Язык SQL                                         Высокопроизводительные вычисления                Теория баз данных                                Компьютерные сети                                       Промышленное программирование на языке Java  Дискретная оптимизация                                  2\n",
       "Name: id, dtype: int64"
      ]
     },
     "execution_count": 19,
     "metadata": {},
     "output_type": "execute_result"
    }
   ],
   "source": [
    "# для того, чтобы это выглядело понятно, желательн\n",
    "dfn = df.groupby(by=['fall_1', 'fall_2', 'fall_3', 'spring_1', 'spring_2', 'spring_3', 'blended'])['id'].count()\n",
    "dfn = dfn[dfn > 1]\n",
    "dfn"
   ]
  },
  {
   "cell_type": "code",
   "execution_count": 20,
   "metadata": {},
   "outputs": [
    {
     "data": {
      "text/plain": [
       "15"
      ]
     },
     "execution_count": 20,
     "metadata": {},
     "output_type": "execute_result"
    }
   ],
   "source": [
    "# количество повторяющихся наборов курсов\n",
    "dfn.shape[0]"
   ]
  },
  {
   "cell_type": "code",
   "execution_count": 21,
   "metadata": {},
   "outputs": [
    {
     "name": "stdout",
     "output_type": "stream",
     "text": [
      "Statistical Learning Theory\n",
      "Анализ неструктурированных данных\n",
      "Сбор и обработка данных с помощью краудсорсинга\n",
      "Обучение с подкреплением\n",
      "Конфликты и кооперация\n",
      "Компьютерное зрение\n",
      "DevOps\n",
      "Количество студентов: 2\n",
      "***\n",
      "Байесовские методы машинного обучения\n",
      "Анализ неструктурированных данных\n",
      "Глубинное обучение в обработке звука\n",
      "Обучение с подкреплением\n",
      "Генеративные модели в машинном обучении\n",
      "Компьютерное зрение\n",
      "DevOps\n",
      "Количество студентов: 2\n",
      "***\n",
      "Байесовские методы машинного обучения\n",
      "Анализ неструктурированных данных\n",
      "Сбор и обработка данных с помощью краудсорсинга\n",
      "Обучение с подкреплением\n",
      "Компьютерное зрение\n",
      "Генеративные модели в машинном обучении\n",
      "DevOps\n",
      "Количество студентов: 2\n",
      "***\n",
      "Безопасность компьютерных систем\n",
      "Statistical Learning Theory\n",
      "Матричные вычисления\n",
      "Дискретная оптимизация\n",
      "Промышленное программирование на языке Java\n",
      "Дополнительные главы прикладной статистики\n",
      "\n",
      "Количество студентов: 3\n",
      "***\n",
      "Безопасность компьютерных систем\n",
      "Высокопроизводительные вычисления\n",
      "Анализ неструктурированных данных\n",
      "Проектирование и разработка высоконагруженных сервисов\n",
      "Методы сжатия и передачи медиаданных\n",
      "Конфликты и кооперация\n",
      "DevOps\n",
      "Количество студентов: 2\n",
      "***\n",
      "Безопасность компьютерных систем\n",
      "Высокопроизводительные вычисления\n",
      "Язык SQL\n",
      "Компьютерные сети\n",
      "Промышленное программирование на языке Java\n",
      "Дискретная оптимизация\n",
      "\n",
      "Количество студентов: 3\n",
      "***\n",
      "Безопасность компьютерных систем\n",
      "Высокопроизводительные вычисления\n",
      "Язык SQL\n",
      "Промышленное программирование на языке Java\n",
      "Компьютерные сети\n",
      "Системы баз данных\n",
      "\n",
      "Количество студентов: 2\n",
      "***\n",
      "Безопасность компьютерных систем\n",
      "Матричные вычисления\n",
      "Моделирование временных рядов\n",
      "Промышленное программирование на языке Java\n",
      "Компьютерные сети\n",
      "Дискретная оптимизация\n",
      "\n",
      "Количество студентов: 2\n",
      "***\n",
      "Безопасность компьютерных систем\n",
      "Сбор и обработка данных с помощью краудсорсинга\n",
      "Матричные вычисления\n",
      "Компьютерные сети\n",
      "Промышленное программирование на языке Java\n",
      "Анализ данных в бизнесе\n",
      "\n",
      "Количество студентов: 2\n",
      "***\n",
      "Безопасность компьютерных систем\n",
      "Теория баз данных\n",
      "Язык SQL\n",
      "Машинное обучение 2\n",
      "Компьютерные сети\n",
      "Промышленное программирование на языке Java\n",
      "\n",
      "Количество студентов: 2\n",
      "***\n",
      "Высокопроизводительные вычисления\n",
      "Безопасность компьютерных систем\n",
      "Сбор и обработка данных с помощью краудсорсинга\n",
      "Проектирование и разработка высоконагруженных сервисов\n",
      "Методы сжатия и передачи медиаданных\n",
      "Компьютерное зрение\n",
      "DevOps\n",
      "Количество студентов: 2\n",
      "***\n",
      "Высокопроизводительные вычисления\n",
      "Сбор и обработка данных с помощью краудсорсинга\n",
      "Моделирование временных рядов\n",
      "Проектирование и разработка высоконагруженных сервисов\n",
      "Методы сжатия и передачи медиаданных\n",
      "Методы сжатия и передачи медиаданных\n",
      "DevOps\n",
      "Количество студентов: 2\n",
      "***\n",
      "Моделирование временных рядов\n",
      "Сбор и обработка данных с помощью краудсорсинга\n",
      "Безопасность компьютерных систем\n",
      "Компьютерные сети\n",
      "Дополнительные главы прикладной статистики\n",
      "Системы баз данных\n",
      "\n",
      "Количество студентов: 2\n",
      "***\n",
      "Сбор и обработка данных с помощью краудсорсинга\n",
      "Язык SQL\n",
      "Теория баз данных\n",
      "Промышленное программирование на языке Java\n",
      "Машинное обучение 2\n",
      "Компьютерные сети\n",
      "\n",
      "Количество студентов: 2\n",
      "***\n",
      "Язык SQL\n",
      "Высокопроизводительные вычисления\n",
      "Теория баз данных\n",
      "Компьютерные сети\n",
      "Промышленное программирование на языке Java\n",
      "Дискретная оптимизация\n",
      "\n",
      "Количество студентов: 2\n",
      "***\n"
     ]
    }
   ],
   "source": [
    "# чуть более понятный вывод наборов курсов\n",
    "dfn.to_excel('courses.xlsx')\n",
    "for i in dfn.iteritems():\n",
    "    for course in i[0]:\n",
    "        print(course)\n",
    "    print('Количество студентов: {0}'.format(i[1]))\n",
    "    print('***')"
   ]
  },
  {
   "cell_type": "markdown",
   "metadata": {},
   "source": [
    "Найдите курсы по выбору, на которые записывались как студенты 18-го года набора, так и студенты 17-го года."
   ]
  },
  {
   "cell_type": "code",
   "execution_count": 22,
   "metadata": {},
   "outputs": [],
   "source": [
    "# (???)\n",
    "def courses_list(df, cols):\n",
    "    temp = []\n",
    "    #cols = ['fall_1','fall_2','fall_3','spring_1','spring_2','spring_3']\n",
    "    for c in cols:\n",
    "        temp += list(df[c].unique())\n",
    "    return set(temp)"
   ]
  },
  {
   "cell_type": "code",
   "execution_count": 23,
   "metadata": {},
   "outputs": [],
   "source": [
    "c17 = courses_list(df17,['fall_1','fall_2','fall_3','spring_1','spring_2','spring_3'])\n",
    "c18 = courses_list(df18,['fall_1','fall_2','fall_3','spring_1','spring_2','spring_3'])"
   ]
  },
  {
   "cell_type": "code",
   "execution_count": 24,
   "metadata": {},
   "outputs": [
    {
     "data": {
      "text/plain": [
       "{'Statistical Learning Theory',\n",
       " 'Безопасность компьютерных систем',\n",
       " 'Высокопроизводительные вычисления',\n",
       " 'Моделирование временных рядов',\n",
       " 'Принятие решений в условиях риска и неопределённости',\n",
       " 'Сбор и обработка данных с помощью краудсорсинга',\n",
       " 'Численные методы'}"
      ]
     },
     "execution_count": 24,
     "metadata": {},
     "output_type": "execute_result"
    }
   ],
   "source": [
    "set.intersection(c17, c18)"
   ]
  },
  {
   "cell_type": "markdown",
   "metadata": {},
   "source": [
    "Методом исключения найдите курсы, которые предлагались только студентам 18-го года и только студентам 17-го года."
   ]
  },
  {
   "cell_type": "code",
   "execution_count": 25,
   "metadata": {},
   "outputs": [
    {
     "data": {
      "text/plain": [
       "{'Анализ данных в бизнесе',\n",
       " 'Дискретная оптимизация',\n",
       " 'Дополнительные главы прикладной статистики',\n",
       " 'Компьютерные сети',\n",
       " 'Матричные вычисления',\n",
       " 'Машинное обучение 2',\n",
       " 'Промышленное программирование на языке Java',\n",
       " 'Системы баз данных',\n",
       " 'Теория баз данных',\n",
       " 'Язык SQL'}"
      ]
     },
     "execution_count": 25,
     "metadata": {},
     "output_type": "execute_result"
    }
   ],
   "source": [
    "# уникальные курсы для 18 набора\n",
    "set.difference(c18, c17)"
   ]
  },
  {
   "cell_type": "code",
   "execution_count": 26,
   "metadata": {},
   "outputs": [
    {
     "data": {
      "text/plain": [
       "{'Анализ неструктурированных данных',\n",
       " 'Байесовские методы машинного обучения',\n",
       " 'Генеративные модели в машинном обучении',\n",
       " 'Глубинное обучение в обработке звука',\n",
       " 'Компьютерное зрение',\n",
       " 'Конфликты и кооперация',\n",
       " 'Методы сжатия и передачи медиаданных',\n",
       " 'Обучение с подкреплением',\n",
       " 'Проектирование и разработка высоконагруженных сервисов',\n",
       " 'Символьные вычисления'}"
      ]
     },
     "execution_count": 26,
     "metadata": {},
     "output_type": "execute_result"
    }
   ],
   "source": [
    "# уникальные курсы для 17 набора\n",
    "set.difference(c17, c18)"
   ]
  },
  {
   "cell_type": "markdown",
   "metadata": {},
   "source": [
    "Постройте график средних рейтингов по дням получения ответов (bar plot)."
   ]
  },
  {
   "cell_type": "code",
   "execution_count": 27,
   "metadata": {},
   "outputs": [],
   "source": [
    "#df.groupby(by=[df.timestamp.day])['rating'].mean()\n",
    "rating_per_day = df.groupby(pd.Grouper(key='timestamp',freq='D'))['rating'].mean()"
   ]
  },
  {
   "cell_type": "code",
   "execution_count": 28,
   "metadata": {},
   "outputs": [],
   "source": [
    "import matplotlib.pyplot as plt"
   ]
  },
  {
   "cell_type": "code",
   "execution_count": 29,
   "metadata": {},
   "outputs": [
    {
     "data": {
      "image/png": "[encoded data removed]",
      "text/plain": [
       "<Figure size 432x288 with 1 Axes>"
      ]
     },
     "metadata": {
      "needs_background": "light"
     },
     "output_type": "display_data"
    }
   ],
   "source": [
    "plt.bar(rating_per_day.index, rating_per_day.values, alpha=0.7, color='teal')\n",
    "plt.xlabel('day', fontsize=15)\n",
    "plt.ylabel('rating', fontsize=15)\n",
    "plt.xticks(rating_per_day.index, rotation=45, ha='right')\n",
    "# второй аргумент тут фиксит срезание текста при сохранении:\n",
    "plt.savefig('rating_per_day.pdf', bbox_inches='tight')"
   ]
  },
  {
   "cell_type": "code",
   "execution_count": 30,
   "metadata": {},
   "outputs": [],
   "source": [
    "import plotly.express as px"
   ]
  },
  {
   "cell_type": "code",
   "execution_count": 31,
   "metadata": {},
   "outputs": [
    {
     "data": {
      "application/vnd.plotly.v1+json": {
       "config": {
        "plotlyServerURL": "https://plot.ly"
       },
       "data": [
        {
         "alignmentgroup": "True",
         "hovertemplate": "variable=rating<br>day=%{x}<br>rating=%{y}<extra></extra>",
         "legendgroup": "rating",
         "marker": {
          "color": "#636efa",
          "pattern": {
           "shape": ""
          }
         },
         "name": "rating",
         "offsetgroup": "rating",
         "orientation": "v",
         "showlegend": true,
         "textposition": "auto",
         "type": "bar",
         "x": [
          "2020-05-14T00:00:00",
          "2020-05-15T00:00:00",
          "2020-05-16T00:00:00",
          "2020-05-17T00:00:00",
          "2020-05-18T00:00:00",
          "2020-05-19T00:00:00",
          "2020-05-20T00:00:00",
          "2020-05-21T00:00:00",
          "2020-05-22T00:00:00",
          "2020-05-23T00:00:00",
          "2020-05-24T00:00:00"
         ],
         "xaxis": "x",
         "y": [
          1160.2777777777778,
          719.8666666666667,
          736.4,
          915.027027027027,
          827.3526785714286,
          761.1428571428571,
          689.5,
          584,
          null,
          1080.5,
          670.5
         ],
         "yaxis": "y"
        }
       ],
       "layout": {
        "barmode": "relative",
        "legend": {
         "title": {
          "text": "variable"
         },
         "tracegroupgap": 0
        },
        "margin": {
         "t": 60
        },
        "template": {
         "data": {
          "bar": [
           {
            "error_x": {
             "color": "#2a3f5f"
            },
            "error_y": {
             "color": "#2a3f5f"
            },
            "marker": {
             "line": {
              "color": "#E5ECF6",
              "width": 0.5
             },
             "pattern": {
              "fillmode": "overlay",
              "size": 10,
              "solidity": 0.2
             }
            },
            "type": "bar"
           }
          ],
          "barpolar": [
           {
            "marker": {
             "line": {
              "color": "#E5ECF6",
              "width": 0.5
             },
             "pattern": {
              "fillmode": "overlay",
              "size": 10,
              "solidity": 0.2
             }
            },
            "type": "barpolar"
           }
          ],
          "carpet": [
           {
            "aaxis": {
             "endlinecolor": "#2a3f5f",
             "gridcolor": "white",
             "linecolor": "white",
             "minorgridcolor": "white",
             "startlinecolor": "#2a3f5f"
            },
            "baxis": {
             "endlinecolor": "#2a3f5f",
             "gridcolor": "white",
             "linecolor": "white",
             "minorgridcolor": "white",
             "startlinecolor": "#2a3f5f"
            },
            "type": "carpet"
           }
          ],
          "choropleth": [
           {
            "colorbar": {
             "outlinewidth": 0,
             "ticks": ""
            },
            "type": "choropleth"
           }
          ],
          "contour": [
           {
            "colorbar": {
             "outlinewidth": 0,
             "ticks": ""
            },
            "colorscale": [
             [
              0,
              "#0d0887"
             ],
             [
              0.1111111111111111,
              "#46039f"
             ],
             [
              0.2222222222222222,
              "#7201a8"
             ],
             [
              0.3333333333333333,
              "#9c179e"
             ],
             [
              0.4444444444444444,
              "#bd3786"
             ],
             [
              0.5555555555555556,
              "#d8576b"
             ],
             [
              0.6666666666666666,
              "#ed7953"
             ],
             [
              0.7777777777777778,
              "#fb9f3a"
             ],
             [
              0.8888888888888888,
              "#fdca26"
             ],
             [
              1,
              "#f0f921"
             ]
            ],
            "type": "contour"
           }
          ],
          "contourcarpet": [
           {
            "colorbar": {
             "outlinewidth": 0,
             "ticks": ""
            },
            "type": "contourcarpet"
           }
          ],
          "heatmap": [
           {
            "colorbar": {
             "outlinewidth": 0,
             "ticks": ""
            },
            "colorscale": [
             [
              0,
              "#0d0887"
             ],
             [
              0.1111111111111111,
              "#46039f"
             ],
             [
              0.2222222222222222,
              "#7201a8"
             ],
             [
              0.3333333333333333,
              "#9c179e"
             ],
             [
              0.4444444444444444,
              "#bd3786"
             ],
             [
              0.5555555555555556,
              "#d8576b"
             ],
             [
              0.6666666666666666,
              "#ed7953"
             ],
             [
              0.7777777777777778,
              "#fb9f3a"
             ],
             [
              0.8888888888888888,
              "#fdca26"
             ],
             [
              1,
              "#f0f921"
             ]
            ],
            "type": "heatmap"
           }
          ],
          "heatmapgl": [
           {
            "colorbar": {
             "outlinewidth": 0,
             "ticks": ""
            },
            "colorscale": [
             [
              0,
              "#0d0887"
             ],
             [
              0.1111111111111111,
              "#46039f"
             ],
             [
              0.2222222222222222,
              "#7201a8"
             ],
             [
              0.3333333333333333,
              "#9c179e"
             ],
             [
              0.4444444444444444,
              "#bd3786"
             ],
             [
              0.5555555555555556,
              "#d8576b"
             ],
             [
              0.6666666666666666,
              "#ed7953"
             ],
             [
              0.7777777777777778,
              "#fb9f3a"
             ],
             [
              0.8888888888888888,
              "#fdca26"
             ],
             [
              1,
              "#f0f921"
             ]
            ],
            "type": "heatmapgl"
           }
          ],
          "histogram": [
           {
            "marker": {
             "pattern": {
              "fillmode": "overlay",
              "size": 10,
              "solidity": 0.2
             }
            },
            "type": "histogram"
           }
          ],
          "histogram2d": [
           {
            "colorbar": {
             "outlinewidth": 0,
             "ticks": ""
            },
            "colorscale": [
             [
              0,
              "#0d0887"
             ],
             [
              0.1111111111111111,
              "#46039f"
             ],
             [
              0.2222222222222222,
              "#7201a8"
             ],
             [
              0.3333333333333333,
              "#9c179e"
             ],
             [
              0.4444444444444444,
              "#bd3786"
             ],
             [
              0.5555555555555556,
              "#d8576b"
             ],
             [
              0.6666666666666666,
              "#ed7953"
             ],
             [
              0.7777777777777778,
              "#fb9f3a"
             ],
             [
              0.8888888888888888,
              "#fdca26"
             ],
             [
              1,
              "#f0f921"
             ]
            ],
            "type": "histogram2d"
           }
          ],
          "histogram2dcontour": [
           {
            "colorbar": {
             "outlinewidth": 0,
             "ticks": ""
            },
            "colorscale": [
             [
              0,
              "#0d0887"
             ],
             [
              0.1111111111111111,
              "#46039f"
             ],
             [
              0.2222222222222222,
              "#7201a8"
             ],
             [
              0.3333333333333333,
              "#9c179e"
             ],
             [
              0.4444444444444444,
              "#bd3786"
             ],
             [
              0.5555555555555556,
              "#d8576b"
             ],
             [
              0.6666666666666666,
              "#ed7953"
             ],
             [
              0.7777777777777778,
              "#fb9f3a"
             ],
             [
              0.8888888888888888,
              "#fdca26"
             ],
             [
              1,
              "#f0f921"
             ]
            ],
            "type": "histogram2dcontour"
           }
          ],
          "mesh3d": [
           {
            "colorbar": {
             "outlinewidth": 0,
             "ticks": ""
            },
            "type": "mesh3d"
           }
          ],
          "parcoords": [
           {
            "line": {
             "colorbar": {
              "outlinewidth": 0,
              "ticks": ""
             }
            },
            "type": "parcoords"
           }
          ],
          "pie": [
           {
            "automargin": true,
            "type": "pie"
           }
          ],
          "scatter": [
           {
            "marker": {
             "colorbar": {
              "outlinewidth": 0,
              "ticks": ""
             }
            },
            "type": "scatter"
           }
          ],
          "scatter3d": [
           {
            "line": {
             "colorbar": {
              "outlinewidth": 0,
              "ticks": ""
             }
            },
            "marker": {
             "colorbar": {
              "outlinewidth": 0,
              "ticks": ""
             }
            },
            "type": "scatter3d"
           }
          ],
          "scattercarpet": [
           {
            "marker": {
             "colorbar": {
              "outlinewidth": 0,
              "ticks": ""
             }
            },
            "type": "scattercarpet"
           }
          ],
          "scattergeo": [
           {
            "marker": {
             "colorbar": {
              "outlinewidth": 0,
              "ticks": ""
             }
            },
            "type": "scattergeo"
           }
          ],
          "scattergl": [
           {
            "marker": {
             "colorbar": {
              "outlinewidth": 0,
              "ticks": ""
             }
            },
            "type": "scattergl"
           }
          ],
          "scattermapbox": [
           {
            "marker": {
             "colorbar": {
              "outlinewidth": 0,
              "ticks": ""
             }
            },
            "type": "scattermapbox"
           }
          ],
          "scatterpolar": [
           {
            "marker": {
             "colorbar": {
              "outlinewidth": 0,
              "ticks": ""
             }
            },
            "type": "scatterpolar"
           }
          ],
          "scatterpolargl": [
           {
            "marker": {
             "colorbar": {
              "outlinewidth": 0,
              "ticks": ""
             }
            },
            "type": "scatterpolargl"
           }
          ],
          "scatterternary": [
           {
            "marker": {
             "colorbar": {
              "outlinewidth": 0,
              "ticks": ""
             }
            },
            "type": "scatterternary"
           }
          ],
          "surface": [
           {
            "colorbar": {
             "outlinewidth": 0,
             "ticks": ""
            },
            "colorscale": [
             [
              0,
              "#0d0887"
             ],
             [
              0.1111111111111111,
              "#46039f"
             ],
             [
              0.2222222222222222,
              "#7201a8"
             ],
             [
              0.3333333333333333,
              "#9c179e"
             ],
             [
              0.4444444444444444,
              "#bd3786"
             ],
             [
              0.5555555555555556,
              "#d8576b"
             ],
             [
              0.6666666666666666,
              "#ed7953"
             ],
             [
              0.7777777777777778,
              "#fb9f3a"
             ],
             [
              0.8888888888888888,
              "#fdca26"
             ],
             [
              1,
              "#f0f921"
             ]
            ],
            "type": "surface"
           }
          ],
          "table": [
           {
            "cells": {
             "fill": {
              "color": "#EBF0F8"
             },
             "line": {
              "color": "white"
             }
            },
            "header": {
             "fill": {
              "color": "#C8D4E3"
             },
             "line": {
              "color": "white"
             }
            },
            "type": "table"
           }
          ]
         },
         "layout": {
          "annotationdefaults": {
           "arrowcolor": "#2a3f5f",
           "arrowhead": 0,
           "arrowwidth": 1
          },
          "autotypenumbers": "strict",
          "coloraxis": {
           "colorbar": {
            "outlinewidth": 0,
            "ticks": ""
           }
          },
          "colorscale": {
           "diverging": [
            [
             0,
             "#8e0152"
            ],
            [
             0.1,
             "#c51b7d"
            ],
            [
             0.2,
             "#de77ae"
            ],
            [
             0.3,
             "#f1b6da"
            ],
            [
             0.4,
             "#fde0ef"
            ],
            [
             0.5,
             "#f7f7f7"
            ],
            [
             0.6,
             "#e6f5d0"
            ],
            [
             0.7,
             "#b8e186"
            ],
            [
             0.8,
             "#7fbc41"
            ],
            [
             0.9,
             "#4d9221"
            ],
            [
             1,
             "#276419"
            ]
           ],
           "sequential": [
            [
             0,
             "#0d0887"
            ],
            [
             0.1111111111111111,
             "#46039f"
            ],
            [
             0.2222222222222222,
             "#7201a8"
            ],
            [
             0.3333333333333333,
             "#9c179e"
            ],
            [
             0.4444444444444444,
             "#bd3786"
            ],
            [
             0.5555555555555556,
             "#d8576b"
            ],
            [
             0.6666666666666666,
             "#ed7953"
            ],
            [
             0.7777777777777778,
             "#fb9f3a"
            ],
            [
             0.8888888888888888,
             "#fdca26"
            ],
            [
             1,
             "#f0f921"
            ]
           ],
           "sequentialminus": [
            [
             0,
             "#0d0887"
            ],
            [
             0.1111111111111111,
             "#46039f"
            ],
            [
             0.2222222222222222,
             "#7201a8"
            ],
            [
             0.3333333333333333,
             "#9c179e"
            ],
            [
             0.4444444444444444,
             "#bd3786"
            ],
            [
             0.5555555555555556,
             "#d8576b"
            ],
            [
             0.6666666666666666,
             "#ed7953"
            ],
            [
             0.7777777777777778,
             "#fb9f3a"
            ],
            [
             0.8888888888888888,
             "#fdca26"
            ],
            [
             1,
             "#f0f921"
            ]
           ]
          },
          "colorway": [
           "#636efa",
           "#EF553B",
           "#00cc96",
           "#ab63fa",
           "#FFA15A",
           "#19d3f3",
           "#FF6692",
           "#B6E880",
           "#FF97FF",
           "#FECB52"
          ],
          "font": {
           "color": "#2a3f5f"
          },
          "geo": {
           "bgcolor": "white",
           "lakecolor": "white",
           "landcolor": "#E5ECF6",
           "showlakes": true,
           "showland": true,
           "subunitcolor": "white"
          },
          "hoverlabel": {
           "align": "left"
          },
          "hovermode": "closest",
          "mapbox": {
           "style": "light"
          },
          "paper_bgcolor": "white",
          "plot_bgcolor": "#E5ECF6",
          "polar": {
           "angularaxis": {
            "gridcolor": "white",
            "linecolor": "white",
            "ticks": ""
           },
           "bgcolor": "#E5ECF6",
           "radialaxis": {
            "gridcolor": "white",
            "linecolor": "white",
            "ticks": ""
           }
          },
          "scene": {
           "xaxis": {
            "backgroundcolor": "#E5ECF6",
            "gridcolor": "white",
            "gridwidth": 2,
            "linecolor": "white",
            "showbackground": true,
            "ticks": "",
            "zerolinecolor": "white"
           },
           "yaxis": {
            "backgroundcolor": "#E5ECF6",
            "gridcolor": "white",
            "gridwidth": 2,
            "linecolor": "white",
            "showbackground": true,
            "ticks": "",
            "zerolinecolor": "white"
           },
           "zaxis": {
            "backgroundcolor": "#E5ECF6",
            "gridcolor": "white",
            "gridwidth": 2,
            "linecolor": "white",
            "showbackground": true,
            "ticks": "",
            "zerolinecolor": "white"
           }
          },
          "shapedefaults": {
           "line": {
            "color": "#2a3f5f"
           }
          },
          "ternary": {
           "aaxis": {
            "gridcolor": "white",
            "linecolor": "white",
            "ticks": ""
           },
           "baxis": {
            "gridcolor": "white",
            "linecolor": "white",
            "ticks": ""
           },
           "bgcolor": "#E5ECF6",
           "caxis": {
            "gridcolor": "white",
            "linecolor": "white",
            "ticks": ""
           }
          },
          "title": {
           "x": 0.05
          },
          "xaxis": {
           "automargin": true,
           "gridcolor": "white",
           "linecolor": "white",
           "ticks": "",
           "title": {
            "standoff": 15
           },
           "zerolinecolor": "white",
           "zerolinewidth": 2
          },
          "yaxis": {
           "automargin": true,
           "gridcolor": "white",
           "linecolor": "white",
           "ticks": "",
           "title": {
            "standoff": 15
           },
           "zerolinecolor": "white",
           "zerolinewidth": 2
          }
         }
        },
        "xaxis": {
         "anchor": "y",
         "domain": [
          0,
          1
         ],
         "title": {
          "text": "day"
         }
        },
        "yaxis": {
         "anchor": "x",
         "domain": [
          0,
          1
         ],
         "title": {
          "text": "rating"
         }
        }
       }
      }
     },
     "metadata": {},
     "output_type": "display_data"
    }
   ],
   "source": [
    "# такой же график через plotly\n",
    "fig = px.bar(rating_per_day, labels={'timestamp':'day','value':'rating'})\n",
    "fig.show()"
   ]
  },
  {
   "cell_type": "markdown",
   "metadata": {},
   "source": [
    "### 2. Распределение студентов по курсам."
   ]
  },
  {
   "cell_type": "markdown",
   "metadata": {},
   "source": [
    "2.0 Проверка"
   ]
  },
  {
   "cell_type": "code",
   "execution_count": 32,
   "metadata": {},
   "outputs": [],
   "source": [
    "assert df.shape[0] == 347, 'В таблице остались повторы или потеряны данные'\n",
    "\n",
    "assert df.isna().sum().sum() == 0, 'В таблице остались пропуски'"
   ]
  },
  {
   "cell_type": "markdown",
   "metadata": {},
   "source": [
    "2.1 Создайте новый признак, обозначающий, сколько осенних курсов должен выбрать студент"
   ]
  },
  {
   "cell_type": "markdown",
   "metadata": {},
   "source": [
    "Соответствие номеров групп специализациям:\n",
    "171, 172 - МОП; 173 - ТИ; 174 — АДИС; 175, 176 — РС; 177 — АПР\n",
    "181, 182 - МОП; 183 - ТИ; 184 - АДИС; 185, 186 - РС; 187 - АПР; 188 - МИ"
   ]
  },
  {
   "cell_type": "markdown",
   "metadata": {},
   "source": [
    "По умолчанию студент выбирает один осенний и один весенний курс по выбору, а также четверокурсники выбирают один blended-курс. Студенты групп 17-го года специализаций МОП и ТИ выбирают по 2 осенних и 2 весенних курса по выбору, также студенты групп 18' специализации МИ выбирают 2 осенних курса."
   ]
  },
  {
   "cell_type": "code",
   "execution_count": 33,
   "metadata": {},
   "outputs": [],
   "source": [
    "df = df.assign(courses_num_fall = df['17_group'].apply(lambda x: 2\\\n",
    "    if x in [171,172,173] else 0) + df['is_mi'].apply(lambda x: 2\\\n",
    "    if x == True else 0))"
   ]
  },
  {
   "cell_type": "code",
   "execution_count": 34,
   "metadata": {},
   "outputs": [],
   "source": [
    "df['courses_num_fall'] = df['courses_num_fall'].apply(lambda x: 1 if x == 0 else 2)"
   ]
  },
  {
   "cell_type": "markdown",
   "metadata": {},
   "source": [
    "Проверка"
   ]
  },
  {
   "cell_type": "code",
   "execution_count": 35,
   "metadata": {},
   "outputs": [],
   "source": [
    "col_name = 'courses_num_fall'\n",
    "\n",
    "assert(df[df['id'] == '2662600c2c37e11e62f6ee0b88452f22'][col_name] == 2).all()\n",
    "assert(df[df['id'] == 'd555d2805e1d93d4f023e57dc4c8f403'][col_name] == 2).all()\n",
    "assert(df[df['id'] == '8fe79f84f36e3a5d2d6745621321302c'][col_name] == 1).all()\n",
    "assert(df[df['id'] == 'e4caca755ee0bdd711e18fb8084958b5'][col_name] == 1).all()"
   ]
  },
  {
   "cell_type": "code",
   "execution_count": 36,
   "metadata": {},
   "outputs": [],
   "source": [
    "c_fall = courses_list(df, ['fall_1','fall_2','fall_3'])"
   ]
  },
  {
   "cell_type": "code",
   "execution_count": 37,
   "metadata": {},
   "outputs": [],
   "source": [
    "# словарь, в котором хранится количество свободных мест для каждого курса\n",
    "vacancies = {}\n",
    "for c in c_fall:\n",
    "    max_st_num = 30\n",
    "    if c in ['Statistical Learning Theory', 'Высокопроизводительные вычисления']:\n",
    "        max_st_num = 60\n",
    "    elif c == 'Анализ неструктурированных данных':\n",
    "        max_st_num = 999\n",
    "    vacancies[c] = max_st_num"
   ]
  },
  {
   "cell_type": "code",
   "execution_count": 38,
   "metadata": {},
   "outputs": [],
   "source": [
    "# удаляем дублирование курсов\n",
    "\n",
    "df.loc[df['fall_2'] == df['fall_3'], 'fall_3'] = '-'\n",
    "df.loc[df['fall_1'] == df['fall_2'], 'fall_2'] = '-'\n",
    "df.loc[df['fall_1'] == df['fall_3'], 'fall_3'] = '-'"
   ]
  },
  {
   "cell_type": "code",
   "execution_count": 39,
   "metadata": {},
   "outputs": [],
   "source": [
    "# распределение студентов по первой волне\n",
    "\n",
    "df['courses_num_fall_alloc'] = 0\n",
    "\n",
    "\n",
    "df_res = pd.DataFrame(columns=['id','course'])\n",
    "\n",
    "for c in vacancies:\n",
    "    \n",
    "    df1_temp = df[df['fall_1'] == c]\n",
    "    df2_temp = df[(df['fall_2'] == c) & (df['courses_num_fall'] == 2)]\n",
    "    df_temp = pd.concat([df1_temp, df2_temp], ignore_index=True)\n",
    "    df_temp = df_temp.sort_values(by='percentile', ascending=True)[:vacancies[c]]\n",
    "    \n",
    "    df['courses_num_fall_alloc'] = df['courses_num_fall_alloc'] + df['id'].isin(df_temp['id'].values)\n",
    "    df_temp['course'] = c\n",
    "\n",
    "    # новое число свободных мест на курсе (после текущей волны)\n",
    "    vacancies[c] -= df_temp.shape[0]\n",
    "\n",
    "    df_res = pd.concat([df_res, df_temp[['id','course']]])\n"
   ]
  },
  {
   "cell_type": "code",
   "execution_count": null,
   "metadata": {},
   "outputs": [],
   "source": [
    "# удаляем курсы, на которые не осталось свободных мест\n",
    "vacancies = {key:val for key, val in vacancies.items() if val != 0}"
   ]
  },
  {
   "cell_type": "code",
   "execution_count": null,
   "metadata": {},
   "outputs": [],
   "source": [
    "# распределение студентов по второй волне\n",
    "for c in vacancies:\n",
    "    df1_temp = df[(df['fall_2'] == c) & (df['courses_num_fall'] == 1)]\n",
    "    df2_temp = df[(df['fall_3'] == c) & (df['courses_num_fall'] == 2)]\n",
    "    df_temp = pd.concat([df1_temp, df2_temp], ignore_index=True)\n",
    "    df_temp = df_temp[df_temp['courses_num_fall'] != df_temp['courses_num_fall_alloc']]\n",
    "    df_temp = df_temp.sort_values(by='percentile', ascending=True)[:vacancies[c]]#False\n",
    "\n",
    "    df['courses_num_fall_alloc'] = df['courses_num_fall_alloc'] + df['id'].isin(df_temp['id'].values)\n",
    "    df_temp['course'] = c\n",
    "\n",
    "    vacancies[c] -= df_temp.shape[0]\n",
    "\n",
    "    df_res = pd.concat([df_res, df_temp[['id','course']]])\n"
   ]
  },
  {
   "cell_type": "code",
   "execution_count": null,
   "metadata": {},
   "outputs": [],
   "source": [
    "# удаляем курсы, на которые не осталось свободных мест\n",
    "vacancies = {key:val for key, val in vacancies.items() if val != 0}"
   ]
  },
  {
   "cell_type": "code",
   "execution_count": null,
   "metadata": {},
   "outputs": [],
   "source": [
    "# распределение студентов по третьей волне\n",
    "for c in vacancies:\n",
    "    \n",
    "    df_temp = df[(df['fall_3'] == c) & (df['courses_num_fall'] == 1)]\n",
    "    df_temp = df_temp[df_temp['courses_num_fall'] != df_temp['courses_num_fall_alloc']]\n",
    "    df_temp = df_temp.sort_values(by='percentile', ascending=True)[:vacancies[c]]\n",
    "\n",
    "    df['courses_num_fall_alloc'] = df['courses_num_fall_alloc'] + df['id'].isin(df_temp['id'].values)\n",
    "    df_temp['course'] = c\n",
    "\n",
    "    df_res = pd.concat([df_res, df_temp[['id','course']]])\n"
   ]
  },
  {
   "cell_type": "code",
   "execution_count": null,
   "metadata": {},
   "outputs": [],
   "source": [
    "# распределяем курсы в два столбца\n",
    "dfgb = df_res.groupby(by='id')\n",
    "df_res_2col = pd.DataFrame()\n",
    "df_res_2col = dfgb.first()\n",
    "df_res_2col['course2'] = dfgb.last()['course']"
   ]
  },
  {
   "cell_type": "code",
   "execution_count": null,
   "metadata": {},
   "outputs": [],
   "source": [
    "df_with_courses = df.merge(right=df_res_2col, left_on='id',right_index=True, how='outer')"
   ]
  },
  {
   "cell_type": "code",
   "execution_count": null,
   "metadata": {},
   "outputs": [],
   "source": [
    "# заполнение пропусков как указано в задании\n",
    "df_with_courses.loc[df_with_courses['courses_num_fall_alloc'] == 0, 'course'] = '???'\n",
    "df_with_courses.loc[df_with_courses['courses_num_fall'] == 1, 'course2'] = '-'\n",
    "df_with_courses.loc[(df_with_courses['courses_num_fall'] == 2) & (df_with_courses['courses_num_fall_alloc'] < 2), 'course2'] = '???'"
   ]
  },
  {
   "cell_type": "code",
   "execution_count": null,
   "metadata": {},
   "outputs": [],
   "source": [
    "res_final = pd.DataFrame(df_with_courses['id'])\n",
    "res_final.rename({'id':'ID'}, axis=1, inplace=True)"
   ]
  },
  {
   "cell_type": "code",
   "execution_count": null,
   "metadata": {},
   "outputs": [],
   "source": [
    "\n",
    "res_final['course1'] = df_with_courses['course']\n",
    "res_final['course2'] = df_with_courses['course2']"
   ]
  },
  {
   "cell_type": "code",
   "execution_count": null,
   "metadata": {},
   "outputs": [],
   "source": [
    "res_final.loc[res_final['course1'] == res_final['course2'], 'course2'] = '???'"
   ]
  },
  {
   "cell_type": "code",
   "execution_count": null,
   "metadata": {},
   "outputs": [],
   "source": [
    "res_final.to_csv('res_fall.csv', index=None)"
   ]
  },
  {
   "cell_type": "code",
   "execution_count": null,
   "metadata": {},
   "outputs": [],
   "source": []
  },
  {
   "cell_type": "markdown",
   "metadata": {},
   "source": [
    "### 3 Весенние курсы"
   ]
  },
  {
   "cell_type": "code",
   "execution_count": null,
   "metadata": {},
   "outputs": [],
   "source": [
    "df = df.assign(courses_num_spring = df['17_group'].apply(lambda x: 2\\\n",
    "    if x in [171,172,173] else 1))"
   ]
  },
  {
   "cell_type": "code",
   "execution_count": null,
   "metadata": {},
   "outputs": [],
   "source": [
    "c_spring = courses_list(df, ['spring_1','spring_2','spring_3'])"
   ]
  },
  {
   "cell_type": "code",
   "execution_count": null,
   "metadata": {},
   "outputs": [],
   "source": [
    "vacancies = {}\n",
    "for c in c_spring:\n",
    "    if c in ['Обучение с подкреплением', 'Анализ данных в бизнесе']:\n",
    "        max_st_num = 60\n",
    "    else:\n",
    "        max_st_num = 30\n",
    "    vacancies[c] = max_st_num"
   ]
  },
  {
   "cell_type": "code",
   "execution_count": null,
   "metadata": {},
   "outputs": [],
   "source": [
    "\n",
    "\n",
    "# # Студенты специализации МОП не могут выбрать весенним курсом по выбору Машинное обучение 2\n",
    "# df.loc[(df['spring_1'] == 'Машинное обучение 2') & (df['17_group'].isin([171,172])), 'spring_1'] = '--'\n",
    "# df.loc[(df['spring_2'] == 'Машинное обучение 2') & (df['17_group'].isin([171,172])), 'spring_2'] = '--'\n",
    "# df.loc[(df['spring_3'] == 'Машинное обучение 2') & (df['17_group'].isin([171,172])), 'spring_3'] = '--'\n",
    "# df.loc[(df['spring_1'] == 'Машинное обучение 2') & (df['18_group'].isin([181,182])), 'spring_1'] = '--'\n",
    "# df.loc[(df['spring_2'] == 'Машинное обучение 2') & (df['18_group'].isin([181,182])), 'spring_2'] = '--'\n",
    "# df.loc[(df['spring_3'] == 'Машинное обучение 2') & (df['18_group'].isin([181,182])), 'spring_3'] = '--'\n",
    "\n",
    "df.loc[(df['spring_3'] == 'Машинное обучение 2') & (df['18_group'].isin([181,182])), 'spring_3'] = '---'\n",
    "df.loc[(df['spring_2'] == 'Машинное обучение 2') & (df['18_group'].isin([181,182])), 'spring_2'] = df['spring_3']\n",
    "df.loc[(df['spring_1'] == 'Машинное обучение 2') & (df['18_group'].isin([181,182])), 'spring_1'] = df['spring_2']\n",
    "\n",
    "\n",
    "df.loc[df['spring_1'] == df['spring_3'], 'spring_3'] = '--'\n",
    "df.loc[df['spring_2'] == df['spring_3'], 'spring_3'] = '--'\n",
    "df.loc[df['spring_1'] == df['spring_2'], 'spring_2'] = '--'\n"
   ]
  },
  {
   "cell_type": "code",
   "execution_count": null,
   "metadata": {},
   "outputs": [],
   "source": [
    "df.to_excel('temp1.xlsx')"
   ]
  },
  {
   "cell_type": "code",
   "execution_count": null,
   "metadata": {},
   "outputs": [],
   "source": [
    "# распределение студентов по первой волне\n",
    "\n",
    "df['courses_num_spring_alloc'] = 0\n",
    "\n",
    "\n",
    "df_res = pd.DataFrame(columns=['id','course'])\n",
    "\n",
    "for c in vacancies:\n",
    "    \n",
    "    df1_temp = df[df['spring_1'] == c]\n",
    "    df2_temp = df[(df['spring_2'] == c) & (df['courses_num_spring'] == 2)]\n",
    "    df_temp = pd.concat([df1_temp, df2_temp], ignore_index=True)\n",
    "    df_temp = df_temp.sort_values(by='percentile', ascending=True)[:vacancies[c]]\n",
    "    \n",
    "    df['courses_num_spring_alloc'] = df['courses_num_spring_alloc'] + df['id'].isin(df_temp['id'].values)\n",
    "    df_temp['course'] = c\n",
    "\n",
    "    # новое число свободных мест на курсе (после текущей волны)\n",
    "    vacancies[c] -= df_temp.shape[0]\n",
    "\n",
    "    df_res = pd.concat([df_res, df_temp[['id','course']]])\n"
   ]
  },
  {
   "cell_type": "code",
   "execution_count": null,
   "metadata": {},
   "outputs": [],
   "source": [
    "# удаляем курсы, на которые не осталось свободных мест\n",
    "vacancies = {key:val for key, val in vacancies.items() if val != 0}"
   ]
  },
  {
   "cell_type": "code",
   "execution_count": null,
   "metadata": {},
   "outputs": [],
   "source": [
    "# распределение студентов по второй волне\n",
    "for c in vacancies:\n",
    "    df1_temp = df[(df['spring_2'] == c) & (df['courses_num_spring'] == 1)]\n",
    "    df2_temp = df[(df['spring_3'] == c) & (df['courses_num_spring'] == 2)]\n",
    "    df_temp = pd.concat([df1_temp, df2_temp], ignore_index=True)\n",
    "    df_temp = df_temp[df_temp['courses_num_spring'] != df_temp['courses_num_spring_alloc']]\n",
    "    df_temp = df_temp.sort_values(by='percentile', ascending=True)[:vacancies[c]]#False\n",
    "\n",
    "    df['courses_num_spring_alloc'] = df['courses_num_spring_alloc'] + df['id'].isin(df_temp['id'].values)\n",
    "    df_temp['course'] = c\n",
    "\n",
    "    vacancies[c] -= df_temp.shape[0]\n",
    "\n",
    "    df_res = pd.concat([df_res, df_temp[['id','course']]])\n"
   ]
  },
  {
   "cell_type": "code",
   "execution_count": null,
   "metadata": {},
   "outputs": [],
   "source": [
    "# удаляем курсы, на которые не осталось свободных мест\n",
    "vacancies = {key:val for key, val in vacancies.items() if val != 0}"
   ]
  },
  {
   "cell_type": "code",
   "execution_count": null,
   "metadata": {},
   "outputs": [],
   "source": [
    "# распределение студентов по третьей волне\n",
    "for c in vacancies:\n",
    "    \n",
    "    df_temp = df[(df['spring_3'] == c) & (df['courses_num_spring'] == 1)]\n",
    "    df_temp = df_temp[df_temp['courses_num_spring'] != df_temp['courses_num_spring_alloc']]\n",
    "    df_temp = df_temp.sort_values(by='percentile', ascending=True)[:vacancies[c]]\n",
    "\n",
    "    df['courses_num_spring_alloc'] = df['courses_num_spring_alloc'] + df['id'].isin(df_temp['id'].values)\n",
    "    df_temp['course'] = c\n",
    "\n",
    "    df_res = pd.concat([df_res, df_temp[['id','course']]])\n"
   ]
  },
  {
   "cell_type": "code",
   "execution_count": null,
   "metadata": {},
   "outputs": [],
   "source": [
    "# распределяем курсы в два столбца\n",
    "dfgb = df_res.groupby(by='id')\n",
    "df_res_2col = pd.DataFrame()\n",
    "df_res_2col = dfgb.first()\n",
    "df_res_2col['course2'] = dfgb.last()['course']"
   ]
  },
  {
   "cell_type": "code",
   "execution_count": null,
   "metadata": {},
   "outputs": [],
   "source": [
    "df_with_courses = df.merge(right=df_res_2col, left_on='id', right_index=True, how='outer')"
   ]
  },
  {
   "cell_type": "code",
   "execution_count": null,
   "metadata": {},
   "outputs": [],
   "source": [
    "# заполнение пропусков как указано в задании\n",
    "df_with_courses.loc[df_with_courses['courses_num_spring_alloc'] == 0, 'course'] = '???'\n",
    "df_with_courses.loc[df_with_courses['courses_num_spring'] == 1, 'course2'] = '-'\n",
    "df_with_courses.loc[(df_with_courses['courses_num_spring'] == 2) & (df_with_courses['courses_num_spring_alloc'] < 2), 'course2'] = '???'"
   ]
  },
  {
   "cell_type": "code",
   "execution_count": null,
   "metadata": {},
   "outputs": [],
   "source": [
    "res_final = pd.DataFrame(df_with_courses['id'])\n",
    "res_final.rename({'id':'ID'}, axis=1, inplace=True)\n",
    "res_final['course1'] = df_with_courses['course']\n",
    "res_final['course2'] = df_with_courses['course2']"
   ]
  },
  {
   "cell_type": "code",
   "execution_count": null,
   "metadata": {},
   "outputs": [],
   "source": [
    "res_final.loc[res_final['course1'] == res_final['course2'], 'course2'] = '???'"
   ]
  },
  {
   "cell_type": "code",
   "execution_count": null,
   "metadata": {},
   "outputs": [],
   "source": [
    "res_final.to_csv('res_spring.csv', index=None)"
   ]
  },
  {
   "cell_type": "code",
   "execution_count": null,
   "metadata": {},
   "outputs": [],
   "source": []
  }
 ],
 "metadata": {
  "interpreter": {
   "hash": "185520386beadaf3dc1390417ac37b887f9dce76bf2ddfe2b4d00f705a09b59c"
  },
  "kernelspec": {
   "display_name": "Python 3.9.2 64-bit",
   "language": "python",
   "name": "python3"
  },
  "language_info": {
   "codemirror_mode": {
    "name": "ipython",
    "version": 3
   },
   "file_extension": ".py",
   "mimetype": "text/x-python",
   "name": "python",
   "nbconvert_exporter": "python",
   "pygments_lexer": "ipython3",
   "version": "3.9.2"
  },
  "orig_nbformat": 4
 },
 "nbformat": 4,
 "nbformat_minor": 2
}
